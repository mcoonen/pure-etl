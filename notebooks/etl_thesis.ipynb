{
 "cells": [
  {
   "cell_type": "markdown",
   "id": "5e55b0de-0db0-4bb7-907e-f68d591c222d",
   "metadata": {},
   "source": [
    "# ETL thesis\n",
    "This notebook gets thesis data from Pure and creates several visualisations."
   ]
  },
  {
   "cell_type": "code",
   "execution_count": 1,
   "id": "7367204d-687b-453b-8a79-447e35a227c4",
   "metadata": {},
   "outputs": [],
   "source": [
    "import requests\n",
    "from requests.auth import HTTPBasicAuth\n",
    "import xml.etree.ElementTree as ET\n",
    "import matplotlib.pyplot as plt\n",
    "\n",
    "# Load API token from secrets file (.env)\n",
    "%load_ext dotenv\n",
    "%dotenv\n",
    "import os\n",
    "\n",
    "api_token = os.getenv(\"API_TOKEN\")"
   ]
  },
  {
   "cell_type": "markdown",
   "id": "a9e3b8ee-4ee3-4da1-9aad-d0a9bb4735a5",
   "metadata": {},
   "source": [
    "### Config"
   ]
  },
  {
   "cell_type": "code",
   "execution_count": 4,
   "id": "f483d6b9-095b-4327-a410-0fdefb2a2439",
   "metadata": {},
   "outputs": [],
   "source": [
    "\n",
    "\n",
    "# TODO: URL opknippen in parameters\n",
    "# Default page size is 10\n",
    "#url = 'https://crisapi.library.maastrichtuniversity.nl/api/ResearchOutput?types=/dk/atira/pure/researchoutput/researchoutputtypes/thesis/doc&year_begin=2010&year_end=2020&extra=personAssociations,publicationStatuses'\n",
    "\n",
    "# Page size modified\n",
    "url = 'https://crisapi.library.maastrichtuniversity.nl/api/ResearchOutput?types=/dk/atira/pure/researchoutput/researchoutputtypes/thesis/doc&size=500&year_begin=2010&year_end=2020&extra=personAssociations,publicationStatuses'\n",
    "\n",
    "headers = {'Accept': 'application/xml', 'UBKey': api_token}"
   ]
  },
  {
   "cell_type": "markdown",
   "id": "b738b203-099c-4a0a-9ca8-56bec116fbfa",
   "metadata": {},
   "source": [
    "### Start of script\n",
    "\n",
    "Perform API call"
   ]
  },
  {
   "cell_type": "code",
   "execution_count": 5,
   "id": "3fed1377-b918-4929-b379-375b1ab3f45c",
   "metadata": {},
   "outputs": [],
   "source": [
    "out = requests.get(url, headers=headers)"
   ]
  },
  {
   "cell_type": "markdown",
   "id": "6e82f79d-98e0-4a09-91da-520dfea9e9a1",
   "metadata": {},
   "source": [
    "Convert response to XML tree"
   ]
  },
  {
   "cell_type": "code",
   "execution_count": 11,
   "id": "d66bf776-b479-422e-a3d2-315a9269ec4c",
   "metadata": {},
   "outputs": [],
   "source": [
    "string_xml = ET.fromstring(out.content)\n",
    "tree = ET.ElementTree(string_xml)\n",
    "#ET.dump(tree)\n",
    "root = tree.getroot()\n",
    "\n",
    "# TODO: Use better method to select items-tag\n",
    "items = root[2]"
   ]
  },
  {
   "cell_type": "markdown",
   "id": "721eb152-cf9e-43e3-a39f-a54861de5c72",
   "metadata": {},
   "source": [
    "#### ETL - Publication date\n",
    "Using an XPath to find all years"
   ]
  },
  {
   "cell_type": "code",
   "execution_count": 13,
   "id": "22e8433e-37c2-4290-a2fa-abeed862bb99",
   "metadata": {},
   "outputs": [],
   "source": [
    "years = []\n",
    "for pub_date in items.findall('.//thesis/publicationStatuses/publicationStatus/publicationDate'):\n",
    "    years.append(pub_date.find('year').text)"
   ]
  },
  {
   "cell_type": "code",
   "execution_count": 14,
   "id": "ba6c8ffa-a532-4cbd-84d7-ee3319748a4d",
   "metadata": {},
   "outputs": [
    {
     "data": {
      "image/png": "[encoded data removed]",
      "text/plain": [
       "<Figure size 432x288 with 1 Axes>"
      ]
     },
     "metadata": {
      "needs_background": "light"
     },
     "output_type": "display_data"
    }
   ],
   "source": [
    "plt.hist(x=years)\n",
    "plt.grid(axis='y', alpha=0.75)\n",
    "plt.xlabel('Year')\n",
    "plt.ylabel('Frequency')\n",
    "plt.title('Amount of theses per year')\n",
    "plt.show()"
   ]
  },
  {
   "cell_type": "markdown",
   "id": "861004af-ced5-4bd3-acfb-13de0440c7ae",
   "metadata": {},
   "source": [
    "#### ETL - Publication language\n",
    "Using an Xpath to find all languages"
   ]
  },
  {
   "cell_type": "code",
   "execution_count": 15,
   "id": "73832e2d-ab6c-400b-bb52-3b8473afb313",
   "metadata": {},
   "outputs": [],
   "source": [
    "languages = []\n",
    "for lang in items.findall('.//thesis/language/term/text'):\n",
    "    #locale=lang.attrib\n",
    "    languages.append(lang.text)"
   ]
  },
  {
   "cell_type": "code",
   "execution_count": 16,
   "id": "cb71d142-fcac-4854-ab8a-5310cb2bfeae",
   "metadata": {},
   "outputs": [
    {
     "data": {
      "image/png": "[encoded data removed]",
      "text/plain": [
       "<Figure size 432x288 with 1 Axes>"
      ]
     },
     "metadata": {
      "needs_background": "light"
     },
     "output_type": "display_data"
    }
   ],
   "source": [
    "plt.hist(x=languages)\n",
    "plt.grid(axis='y', alpha=0.75)\n",
    "plt.xlabel('Language')\n",
    "plt.ylabel('Frequency')\n",
    "plt.title('Amount of theses per language')\n",
    "plt.show()"
   ]
  }
 ],
 "metadata": {
  "kernelspec": {
   "display_name": "Python 3 (ipykernel)",
   "language": "python",
   "name": "python3"
  },
  "language_info": {
   "codemirror_mode": {
    "name": "ipython",
    "version": 3
   },
   "file_extension": ".py",
   "mimetype": "text/x-python",
   "name": "python",
   "nbconvert_exporter": "python",
   "pygments_lexer": "ipython3",
   "version": "3.9.7"
  }
 },
 "nbformat": 4,
 "nbformat_minor": 5
}
