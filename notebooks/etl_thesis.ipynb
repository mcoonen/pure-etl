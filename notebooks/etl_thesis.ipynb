{
 "cells": [
  {
   "cell_type": "markdown",
   "id": "b5a55b1b-c73f-48ef-be5d-40373225205d",
   "metadata": {},
   "source": [
    "# ETL thesis\n",
    "This notebook gets thesis data from Pure and creates several visualisations."
   ]
  },
  {
   "cell_type": "markdown",
   "id": "5e55b0de-0db0-4bb7-907e-f68d591c222d",
   "metadata": {},
   "source": [
    "### TODO\n",
    "- Separate request URL in parameters\n",
    "- Fetch all results in batches of 500 or 1000\n",
    "- Export values from data frame to linked data RDF"
   ]
  },
  {
   "cell_type": "code",
   "execution_count": 1,
   "id": "7367204d-687b-453b-8a79-447e35a227c4",
   "metadata": {},
   "outputs": [],
   "source": [
    "import requests\n",
    "from requests.auth import HTTPBasicAuth\n",
    "import xml.etree.ElementTree as ET\n",
    "import matplotlib.pyplot as plt\n",
    "import numpy as np\n",
    "import pandas as pd\n",
    "\n",
    "# Load API token from secrets file (.env)\n",
    "%load_ext dotenv\n",
    "%dotenv\n",
    "import os\n",
    "\n",
    "api_token = os.getenv(\"API_TOKEN\")"
   ]
  },
  {
   "cell_type": "markdown",
   "id": "a9e3b8ee-4ee3-4da1-9aad-d0a9bb4735a5",
   "metadata": {},
   "source": [
    "### Config"
   ]
  },
  {
   "cell_type": "code",
   "execution_count": 58,
   "id": "f483d6b9-095b-4327-a410-0fdefb2a2439",
   "metadata": {},
   "outputs": [],
   "source": [
    "# Default page size is 10\n",
    "url = 'https://crisapi.library.maastrichtuniversity.nl/api/ResearchOutput?types=/dk/atira/pure/researchoutput/researchoutputtypes/thesis/doc&year_begin=2010&year_end=2020&extra=personAssociations,publicationStatuses'\n",
    "\n",
    "# Page size modified\n",
    "#url = 'https://crisapi.library.maastrichtuniversity.nl/api/ResearchOutput?types=/dk/atira/pure/researchoutput/researchoutputtypes/thesis/doc&size=500&year_begin=2010&year_end=2020&extra=personAssociations,publicationStatuses'\n",
    "\n",
    "headers = {'Accept': 'application/xml', 'UBKey': api_token}"
   ]
  },
  {
   "cell_type": "markdown",
   "id": "b738b203-099c-4a0a-9ca8-56bec116fbfa",
   "metadata": {},
   "source": [
    "### Start of script\n",
    "\n",
    "Perform API call"
   ]
  },
  {
   "cell_type": "code",
   "execution_count": 59,
   "id": "3fed1377-b918-4929-b379-375b1ab3f45c",
   "metadata": {},
   "outputs": [],
   "source": [
    "out = requests.get(url, headers=headers)"
   ]
  },
  {
   "cell_type": "markdown",
   "id": "6e82f79d-98e0-4a09-91da-520dfea9e9a1",
   "metadata": {},
   "source": [
    "Convert response to XML tree"
   ]
  },
  {
   "cell_type": "code",
   "execution_count": 60,
   "id": "d66bf776-b479-422e-a3d2-315a9269ec4c",
   "metadata": {},
   "outputs": [],
   "source": [
    "string_xml = ET.fromstring(out.content)\n",
    "tree = ET.ElementTree(string_xml)\n",
    "#ET.dump(tree)\n",
    "root = tree.getroot()\n",
    "\n",
    "# TODO: Use better method to select items-tag\n",
    "items = root[2]"
   ]
  },
  {
   "cell_type": "markdown",
   "id": "84b92e0b-cd36-43a2-8cd2-032b937b9b1c",
   "metadata": {},
   "source": [
    "Load publication data in data frame"
   ]
  },
  {
   "cell_type": "code",
   "execution_count": 61,
   "id": "d76e4642-36f1-46a8-ac61-8c6c6a3e80c3",
   "metadata": {},
   "outputs": [],
   "source": [
    "df_cols = [\"uuid\", \"title\", \"author\", \"author_uuid\", \"year\", \"language\", \"org_unit_uuid\", \"org_unit_extid\", \"org_unit_name\", \"doi\"]\n",
    "rows = []\n",
    "\n",
    "for node in items.findall(\".//thesis\"):\n",
    "    pub_uuid = node.attrib.get(\"uuid\")\n",
    "    pub_title = node.find(\"title\").text\n",
    "    \n",
    "    if node.find(\"./personAssociations/personAssociation/person/name/text\") is not None:\n",
    "        pub_author = node.find(\"./personAssociations/personAssociation/person/name/text\").text\n",
    "        pub_author_uuid = node.find(\"./personAssociations/personAssociation/person\").attrib.get(\"uuid\")\n",
    "    elif node.find(\"./personAssociations/personAssociation/externalPerson/name/text\") is not None:\n",
    "        pub_author = node.find(\"./personAssociations/personAssociation/externalPerson/name/text\").text\n",
    "        pub_author_uuid = node.find(\"./personAssociations/personAssociation/externalPerson\").attrib.get(\"uuid\")\n",
    "    else:\n",
    "        pub_author = \"NA\"\n",
    "        pub_author_uuid = \"NA\"\n",
    "\n",
    "    pub_year = node.find(\"./publicationStatuses/publicationStatus/publicationDate/year\").text\n",
    "    pub_lang = node.find(\"./language/term/text\").text\n",
    "    \n",
    "    if node.find(\"./personAssociations/personAssociation/organisationalUnits/organisationalUnit/name/text\") is not None:\n",
    "        pub_org_unit_uuid = node.find(\"./personAssociations/personAssociation/organisationalUnits/organisationalUnit\").attrib.get(\"uuid\")\n",
    "        pub_org_unit_extid = node.find(\"./personAssociations/personAssociation/organisationalUnits/organisationalUnit\").attrib.get(\"externalId\")\n",
    "        # Ugly data quality replacement\n",
    "        if pub_org_unit_extid is None:\n",
    "            pub_org_unit_extid = \"NA\"\n",
    "        pub_org_unit_name = node.find(\"./personAssociations/personAssociation/organisationalUnits/organisationalUnit/name/text\").text\n",
    "    else:\n",
    "        pub_org_unit_uuid = \"NA\"\n",
    "        pub_org_unit_name = \"NA\"\n",
    "\n",
    "    \n",
    "    if node.find(\"./electronicVersions/electronicVersion/doi\") is not None:\n",
    "        pub_doi = node.find(\"./electronicVersions/electronicVersion/doi\").text\n",
    "    else: \n",
    "        pub_doi = \"NA\"\n",
    "    \n",
    "    rows.append({\"uuid\": pub_uuid,\n",
    "                 \"title\" : pub_title,\n",
    "                 \"author\" : pub_author,\n",
    "                 \"author_uuid\" : pub_author_uuid,\n",
    "                 \"year\" : pub_year,\n",
    "                 \"language\" : pub_lang,\n",
    "                 \"org_unit_uuid\" : pub_org_unit_uuid,\n",
    "                 \"org_unit_extid\" : pub_org_unit_extid,\n",
    "                 \"org_unit_name\" : pub_org_unit_name,\n",
    "                 \"doi\" : pub_doi\n",
    "                })\n",
    "    \n",
    "pub_df = pd.DataFrame(rows, columns = df_cols)"
   ]
  },
  {
   "cell_type": "code",
   "execution_count": 49,
   "id": "7d303b8a-97cd-4629-961a-065162c69ddc",
   "metadata": {},
   "outputs": [],
   "source": [
    "#print(pub_df)"
   ]
  },
  {
   "cell_type": "markdown",
   "id": "721eb152-cf9e-43e3-a39f-a54861de5c72",
   "metadata": {},
   "source": [
    "Publication date Visualisation\n"
   ]
  },
  {
   "cell_type": "code",
   "execution_count": 39,
   "id": "82bdef09-dcc1-40ab-acc0-6b5bf4d498d6",
   "metadata": {},
   "outputs": [],
   "source": [
    "#pub_df['year'].hist()"
   ]
  },
  {
   "cell_type": "code",
   "execution_count": 40,
   "id": "ba6c8ffa-a532-4cbd-84d7-ee3319748a4d",
   "metadata": {},
   "outputs": [
    {
     "data": {
      "image/png": "[encoded data removed]",
      "text/plain": [
       "<Figure size 432x288 with 1 Axes>"
      ]
     },
     "metadata": {
      "needs_background": "light"
     },
     "output_type": "display_data"
    }
   ],
   "source": [
    "plt.hist(x=pub_df['year'])\n",
    "plt.grid(axis='y', alpha=0.75)\n",
    "plt.xlabel('Year')\n",
    "plt.ylabel('Frequency')\n",
    "plt.title('Amount of theses per year')\n",
    "plt.show()"
   ]
  },
  {
   "cell_type": "markdown",
   "id": "861004af-ced5-4bd3-acfb-13de0440c7ae",
   "metadata": {},
   "source": [
    "Publication language visualisation"
   ]
  },
  {
   "cell_type": "code",
   "execution_count": 125,
   "id": "cb71d142-fcac-4854-ab8a-5310cb2bfeae",
   "metadata": {},
   "outputs": [
    {
     "data": {
      "image/png": "[encoded data removed]",
      "text/plain": [
       "<Figure size 432x288 with 1 Axes>"
      ]
     },
     "metadata": {
      "needs_background": "light"
     },
     "output_type": "display_data"
    }
   ],
   "source": [
    "plt.hist(x=pub_df['language'], log=True)\n",
    "plt.grid(axis='y', alpha=0.75)\n",
    "plt.xlabel('Language')\n",
    "plt.ylabel('Frequency (log)')\n",
    "plt.title('Amount of theses per language')\n",
    "plt.show()"
   ]
  },
  {
   "cell_type": "markdown",
   "id": "12c646ec-524b-4d99-a2cd-32a84adf26e2",
   "metadata": {},
   "source": [
    "Organizational Unit visualisation"
   ]
  },
  {
   "cell_type": "code",
   "execution_count": 122,
   "id": "f1b5e1c1-ffb4-41d8-861e-779a9b16704b",
   "metadata": {},
   "outputs": [],
   "source": [
    "top10_departments = pub_df.groupby('org_unit_extid').size().sort_values(ascending=False)[0:10]"
   ]
  },
  {
   "cell_type": "code",
   "execution_count": 123,
   "id": "ccba7ee7-541c-42d5-8352-e7435645c059",
   "metadata": {},
   "outputs": [
    {
     "data": {
      "image/png": "[encoded data removed]",
      "text/plain": [
       "<Figure size 432x288 with 1 Axes>"
      ]
     },
     "metadata": {
      "needs_background": "light"
     },
     "output_type": "display_data"
    }
   ],
   "source": [
    "plt.bar(x=top10_departments.keys(), height=top10_departments)\n",
    "plt.grid(axis='y', alpha=0.75)\n",
    "plt.xlabel('Department')\n",
    "plt.ylabel('Frequency')\n",
    "plt.xticks(rotation='vertical')\n",
    "plt.title('Top 10 theses-producing departments')\n",
    "plt.show()"
   ]
  },
  {
   "cell_type": "code",
   "execution_count": null,
   "id": "6c7c27d0-8f66-417e-baff-96d60374ada2",
   "metadata": {},
   "outputs": [],
   "source": []
  }
 ],
 "metadata": {
  "kernelspec": {
   "display_name": "Python 3 (ipykernel)",
   "language": "python",
   "name": "python3"
  },
  "language_info": {
   "codemirror_mode": {
    "name": "ipython",
    "version": 3
   },
   "file_extension": ".py",
   "mimetype": "text/x-python",
   "name": "python",
   "nbconvert_exporter": "python",
   "pygments_lexer": "ipython3",
   "version": "3.9.7"
  }
 },
 "nbformat": 4,
 "nbformat_minor": 5
}
