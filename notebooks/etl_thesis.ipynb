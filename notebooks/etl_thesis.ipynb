{
 "cells": [
  {
   "cell_type": "markdown",
   "id": "b5a55b1b-c73f-48ef-be5d-40373225205d",
   "metadata": {},
   "source": [
    "# ETL thesis\n",
    "This notebook gets thesis data from Pure and creates several visualisations."
   ]
  },
  {
   "cell_type": "code",
   "execution_count": null,
   "id": "7367204d-687b-453b-8a79-447e35a227c4",
   "metadata": {},
   "outputs": [],
   "source": [
    "import requests\n",
    "from requests.auth import HTTPBasicAuth\n",
    "import xml.etree.ElementTree as ET\n",
    "import matplotlib.pyplot as plt\n",
    "import numpy as np\n",
    "import pandas as pd\n",
    "\n",
    "# Load API token from secrets file (.env)\n",
    "%load_ext dotenv\n",
    "%dotenv\n",
    "import os\n",
    "\n",
    "api_token = os.getenv(\"API_TOKEN\")"
   ]
  },
  {
   "cell_type": "markdown",
   "id": "a9e3b8ee-4ee3-4da1-9aad-d0a9bb4735a5",
   "metadata": {},
   "source": [
    "### Config"
   ]
  },
  {
   "cell_type": "code",
   "execution_count": null,
   "id": "4da17192-7cf3-4c9e-a7bb-f7173100a218",
   "metadata": {},
   "outputs": [],
   "source": [
    "# Config\n",
    "headers = {'Accept': 'application/xml', 'UBKey': api_token}\n",
    "page_size = 500\n",
    "min_year=2010\n",
    "max_year=2020\n"
   ]
  },
  {
   "cell_type": "markdown",
   "id": "251d545a-4482-435c-a2a4-ea53b9961268",
   "metadata": {},
   "source": [
    "### Start ETL\n",
    "\n",
    "Initialize data frame"
   ]
  },
  {
   "cell_type": "code",
   "execution_count": null,
   "id": "f483d6b9-095b-4327-a410-0fdefb2a2439",
   "metadata": {},
   "outputs": [],
   "source": [
    "# Initial call to determine amount of results and number of pages (iterations)\n",
    "tmp = requests.get('https://crisapi.library.maastrichtuniversity.nl/api/ResearchOutput?page=1&types=/dk/atira/pure/researchoutput/researchoutputtypes/thesis/doc&size={}&year_begin={}&year_end={}&extra=personAssociations,publicationStatuses'.format(page_size, min_year, max_year), headers=headers)\n",
    "tmp_string_xml = ET.fromstring(tmp.content)\n",
    "tmp_tree = ET.ElementTree(tmp_string_xml)\n",
    "result_count = int(tmp_tree.getroot()[0].text)\n",
    "iterations = int(np.ceil(result_count / page_size))\n"
   ]
  },
  {
   "cell_type": "markdown",
   "id": "7752cdaf-dc0d-4d4b-ae65-f196ad6d9994",
   "metadata": {},
   "source": [
    "Perform API calls, parse XML and populate data frame"
   ]
  },
  {
   "cell_type": "code",
   "execution_count": null,
   "id": "3d60a1ba-dfde-4d57-b9b7-75799e960359",
   "metadata": {},
   "outputs": [],
   "source": [
    "# Initialize cols and rows for data frame\n",
    "df_cols = [\"uuid\", \"title\", \"author\", \"author_uuid\", \"year\", \"language\", \"org_unit_uuid\", \"org_unit_extid\", \"org_unit_name\", \"doi\"]\n",
    "rows = []\n",
    "\n",
    "# Loop over pages until there are no more results left.\n",
    "for i in range(1,iterations+1):\n",
    "    out = requests.get('https://crisapi.library.maastrichtuniversity.nl/api/ResearchOutput?page={}&types=/dk/atira/pure/researchoutput/researchoutputtypes/thesis/doc&size={}&year_begin={}&year_end={}&extra=personAssociations,publicationStatuses'.format(i, page_size, min_year, max_year), headers=headers)\n",
    "\n",
    "    # Convert response to XML tree\n",
    "    string_xml = ET.fromstring(out.content)\n",
    "    tree = ET.ElementTree(string_xml)\n",
    "    root = tree.getroot()\n",
    "    items = root[2]\n",
    "    \n",
    "    for node in items.findall(\".//thesis\"):\n",
    "        pub_uuid = node.attrib.get(\"uuid\")\n",
    "        pub_title = node.find(\"title\").text\n",
    "\n",
    "        if node.find(\"./personAssociations/personAssociation/person/name/text\") is not None:\n",
    "            pub_author = node.find(\"./personAssociations/personAssociation/person/name/text\").text\n",
    "            pub_author_uuid = node.find(\"./personAssociations/personAssociation/person\").attrib.get(\"uuid\")\n",
    "        elif node.find(\"./personAssociations/personAssociation/externalPerson/name/text\") is not None:\n",
    "            pub_author = node.find(\"./personAssociations/personAssociation/externalPerson/name/text\").text\n",
    "            pub_author_uuid = node.find(\"./personAssociations/personAssociation/externalPerson\").attrib.get(\"uuid\")\n",
    "        else:\n",
    "            pub_author = np.nan\n",
    "            pub_author_uuid = np.nan\n",
    "\n",
    "        pub_year = node.find(\"./publicationStatuses/publicationStatus/publicationDate/year\").text\n",
    "        pub_lang = node.find(\"./language/term/text\").text\n",
    "\n",
    "        if node.find(\"./personAssociations/personAssociation/organisationalUnits/organisationalUnit/name/text\") is not None:\n",
    "            pub_org_unit_uuid = node.find(\"./personAssociations/personAssociation/organisationalUnits/organisationalUnit\").attrib.get(\"uuid\")\n",
    "            pub_org_unit_extid = node.find(\"./personAssociations/personAssociation/organisationalUnits/organisationalUnit\").attrib.get(\"externalId\")\n",
    "            # Ugly data quality replacement\n",
    "            if pub_org_unit_extid is None:\n",
    "                pub_org_unit_extid = np.nan\n",
    "            pub_org_unit_name = node.find(\"./personAssociations/personAssociation/organisationalUnits/organisationalUnit/name/text\").text\n",
    "        else:\n",
    "            pub_org_unit_uuid = np.nan\n",
    "            pub_org_unit_name = np.nan\n",
    "\n",
    "\n",
    "        if node.find(\"./electronicVersions/electronicVersion/doi\") is not None:\n",
    "            pub_doi = node.find(\"./electronicVersions/electronicVersion/doi\").text\n",
    "        else: \n",
    "            pub_doi = np.nan\n",
    "\n",
    "        rows.append({\"uuid\": pub_uuid,\n",
    "                     \"title\" : pub_title,\n",
    "                     \"author\" : pub_author,\n",
    "                     \"author_uuid\" : pub_author_uuid,\n",
    "                     \"year\" : pub_year,\n",
    "                     \"language\" : pub_lang,\n",
    "                     \"org_unit_uuid\" : pub_org_unit_uuid,\n",
    "                     \"org_unit_extid\" : pub_org_unit_extid,\n",
    "                     \"org_unit_name\" : pub_org_unit_name,\n",
    "                     \"doi\" : pub_doi\n",
    "                    })\n",
    "    \n",
    "pub_df = pd.DataFrame(rows, columns = df_cols)"
   ]
  },
  {
   "cell_type": "markdown",
   "id": "43a804ec-e8b3-4a76-bd1e-7229e25b4d00",
   "metadata": {},
   "source": [
    "### Data inspection"
   ]
  },
  {
   "cell_type": "code",
   "execution_count": null,
   "id": "1f442cb4-68b5-4b08-a39f-43ada2a82cfa",
   "metadata": {},
   "outputs": [],
   "source": [
    "pub_df.describe()"
   ]
  },
  {
   "cell_type": "code",
   "execution_count": null,
   "id": "7d303b8a-97cd-4629-961a-065162c69ddc",
   "metadata": {},
   "outputs": [],
   "source": [
    "pub_df.head(10)"
   ]
  },
  {
   "cell_type": "markdown",
   "id": "721eb152-cf9e-43e3-a39f-a54861de5c72",
   "metadata": {},
   "source": [
    "### Visualisations"
   ]
  },
  {
   "cell_type": "code",
   "execution_count": null,
   "id": "ba6c8ffa-a532-4cbd-84d7-ee3319748a4d",
   "metadata": {},
   "outputs": [],
   "source": [
    "plt.hist(x=pub_df['year'], rwidth=0.85)\n",
    "plt.grid(axis='y', alpha=0.75)\n",
    "plt.xlabel('Year')\n",
    "plt.ylabel('Frequency')\n",
    "plt.title('Amount of theses per year')\n",
    "plt.show()"
   ]
  },
  {
   "cell_type": "code",
   "execution_count": null,
   "id": "cb71d142-fcac-4854-ab8a-5310cb2bfeae",
   "metadata": {},
   "outputs": [],
   "source": [
    "plt.hist(x=pub_df['language'], log=True)\n",
    "plt.grid(axis='y', alpha=0.75)\n",
    "plt.xlabel('Language')\n",
    "plt.ylabel('Frequency (log)')\n",
    "plt.title('Amount of theses per language')\n",
    "plt.show()"
   ]
  },
  {
   "cell_type": "code",
   "execution_count": null,
   "id": "6c7c27d0-8f66-417e-baff-96d60374ada2",
   "metadata": {},
   "outputs": [],
   "source": [
    "top10_departments_name = pub_df.groupby('org_unit_name').size().sort_values(ascending=False)[0:10]"
   ]
  },
  {
   "cell_type": "code",
   "execution_count": null,
   "id": "231b2b50-e0c5-464e-9ae5-885654d11426",
   "metadata": {},
   "outputs": [],
   "source": [
    "plt.bar(x=top10_departments_name.keys(), height=top10_departments_name)\n",
    "plt.grid(axis='y', alpha=0.75)\n",
    "plt.xlabel('Department')\n",
    "plt.ylabel('Amount')\n",
    "plt.xticks(rotation='vertical')\n",
    "plt.title('Top 10 theses-producing departments (2010 - 2020)')\n",
    "plt.show()"
   ]
  },
  {
   "cell_type": "code",
   "execution_count": null,
   "id": "9e18afee-c71a-423d-9e17-6cdc9a0c51f7",
   "metadata": {},
   "outputs": [],
   "source": []
  }
 ],
 "metadata": {
  "kernelspec": {
   "display_name": "Python 3 (ipykernel)",
   "language": "python",
   "name": "python3"
  },
  "language_info": {
   "codemirror_mode": {
    "name": "ipython",
    "version": 3
   },
   "file_extension": ".py",
   "mimetype": "text/x-python",
   "name": "python",
   "nbconvert_exporter": "python",
   "pygments_lexer": "ipython3",
   "version": "3.9.7"
  }
 },
 "nbformat": 4,
 "nbformat_minor": 5
}
